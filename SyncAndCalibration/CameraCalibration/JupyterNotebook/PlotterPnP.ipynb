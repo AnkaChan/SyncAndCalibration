{
 "cells": [
  {
   "cell_type": "code",
   "execution_count": 10,
   "metadata": {},
   "outputs": [
    {
     "data": {
      "text/html": [
       "<style>.container { width:90% !important; }</style>"
      ],
      "text/plain": [
       "<IPython.core.display.HTML object>"
      ]
     },
     "metadata": {},
     "output_type": "display_data"
    },
    {
     "name": "stdout",
     "output_type": "stream",
     "text": [
      "The autoreload extension is already loaded. To reload it, use:\n",
      "  %reload_ext autoreload\n",
      "init\n"
     ]
    }
   ],
   "source": [
    "%reset -f\n",
    "import cv2\n",
    "import os\n",
    "import glob \n",
    "import numpy as np\n",
    "import matplotlib as mpl\n",
    "import matplotlib.pyplot as plt\n",
    "import sys\n",
    "import datetime\n",
    "import json\n",
    "from mpl_toolkits.mplot3d import Axes3D\n",
    "\n",
    "def now_str():\n",
    "    now = datetime.datetime.now()\n",
    "    output = '*[{}/{} {}:{}:{}]*'.format(now.month, now.day, now.hour, now.minute, now.second)\n",
    "    return output\n",
    "\n",
    "sys.path.insert(1, r'C:\\Users\\hjoon\\Documents\\PycharmProjects\\CameraCalibration')\n",
    "\n",
    "from modules.calibrator import *\n",
    "from configs import *\n",
    "\n",
    "mpl.style.use('seaborn')\n",
    "\n",
    "from IPython.core.display import display, HTML\n",
    "display(HTML(\"<style>.container { width:90% !important; }</style>\"))\n",
    "cams = Calibrator.cams\n",
    "\n",
    "%matplotlib notebook\n",
    "# for auto-reloading external modules\n",
    "# see http://stackoverflow.com/questions/1907993/autoreload-of-modules-in-ipython\n",
    "%load_ext autoreload\n",
    "%autoreload 2\n",
    "\n",
    "print('init')\n"
   ]
  },
  {
   "cell_type": "code",
   "execution_count": 20,
   "metadata": {},
   "outputs": [
    {
     "name": "stdout",
     "output_type": "stream",
     "text": [
      "  0/454\n",
      "  100/454\n",
      "  200/454\n",
      "  300/454\n",
      "  400/454\n",
      "Done.\n"
     ]
    }
   ],
   "source": [
    "%matplotlib inline\n",
    "path = r'D:\\CalibrationData\\CameraCalibration\\191205_16Cams\\PnPOutput\\chb_pnp_A.json'\n",
    "\n",
    "img_names = []\n",
    "wps = None\n",
    "with open(path, 'r') as f:\n",
    "    wps = json.load(f)\n",
    "    f.close()\n",
    "for img_name in wps.keys():\n",
    "    img_names.append(img_name)\n",
    "img_names = sorted(img_names)\n",
    "\n",
    "\n",
    "for frame_idx, img_name in enumerate(img_names):\n",
    "    if frame_idx % 100 == 0:\n",
    "        print('  {}/{}'.format(frame_idx, len(img_names)))\n",
    "    fig = plt.figure()\n",
    "    ax = fig.add_subplot(111, projection='3d')\n",
    "    ax.plot([0, 1000], [0, 0], [0, 0], c='r')\n",
    "    ax.plot([0, 0], [0, 1000], [0, 0], c='g')\n",
    "    ax.plot([0, 0], [0, 0], [0, 1000], c='b')\n",
    "    wp = np.array(wps[img_name]).reshape((88, 3))\n",
    "    ax.scatter(wp[:, 0], wp[:, 1], wp[:, 2], c='r')\n",
    "    ax.set_xlim([-2500, 2500])\n",
    "    ax.set_ylim([-2500, 2500])\n",
    "    ax.set_zlim([0, 2000])\n",
    "\n",
    "    plt.savefig(r'D:\\CalibrationData\\CameraCalibration\\191205_16Cams\\PnPOutput\\Plots\\\\' + img_name + '.jpg')\n",
    "#     plt.show()\n",
    "    plt.close('all')\n",
    "print('Done.')"
   ]
  }
 ],
 "metadata": {
  "kernelspec": {
   "display_name": "Python 3",
   "language": "python",
   "name": "python3"
  },
  "language_info": {
   "codemirror_mode": {
    "name": "ipython",
    "version": 3
   },
   "file_extension": ".py",
   "mimetype": "text/x-python",
   "name": "python",
   "nbconvert_exporter": "python",
   "pygments_lexer": "ipython3",
   "version": "3.7.4"
  },
  "pycharm": {
   "stem_cell": {
    "cell_type": "raw",
    "source": [],
    "metadata": {
     "collapsed": false
    }
   }
  }
 },
 "nbformat": 4,
 "nbformat_minor": 1
}